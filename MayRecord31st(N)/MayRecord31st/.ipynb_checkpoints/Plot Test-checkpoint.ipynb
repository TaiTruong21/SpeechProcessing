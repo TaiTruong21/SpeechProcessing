{
 "cells": [
  {
   "cell_type": "code",
   "execution_count": 17,
   "metadata": {},
   "outputs": [],
   "source": [
    "import numpy as np\n",
    "import matplotlib.pyplot as plt\n",
    "import struct\n",
    "import scipy.io.wavfile as wav\n",
    "import os\n",
    "import time\n",
    "from IPython.display import clear_output\n",
    "from Scripts import speechrate\n",
    "from playsound import playsound\n",
    "import soundfile as sf\n",
    "import winsound\n",
    "plt.ion()\n"
   ]
  },
  {
   "cell_type": "code",
   "execution_count": 18,
   "metadata": {},
   "outputs": [
    {
     "name": "stdout",
     "output_type": "stream",
     "text": [
      "C:\\Users\\truon\\Desktop\\MayRecord31st\\MayRecord31st\n"
     ]
    }
   ],
   "source": [
    "print(os.getcwd())\n",
    "SAMPLING_RATE = 44100"
   ]
  },
  {
   "cell_type": "code",
   "execution_count": 20,
   "metadata": {},
   "outputs": [
    {
     "name": "stdout",
     "output_type": "stream",
     "text": [
      "First file created!\n",
      "Entering loop...\n",
      "\n",
      "Reading file mic10001.raw\n",
      "numpeaks:  51\n",
      "Number of syllables: 10\n"
     ]
    },
    {
     "ename": "NameError",
     "evalue": "name 'Double' is not defined",
     "output_type": "error",
     "traceback": [
      "\u001b[1;31m---------------------------------------------------------------------------\u001b[0m",
      "\u001b[1;31mNameError\u001b[0m                                 Traceback (most recent call last)",
      "\u001b[1;32m<ipython-input-20-0f1c0c6b882d>\u001b[0m in \u001b[0;36m<module>\u001b[1;34m\u001b[0m\n\u001b[0;32m     40\u001b[0m \u001b[1;33m\u001b[0m\u001b[0m\n\u001b[0;32m     41\u001b[0m         \u001b[0msprate\u001b[0m \u001b[1;33m=\u001b[0m \u001b[0mspeechrate\u001b[0m\u001b[1;33m.\u001b[0m\u001b[0mgetrate\u001b[0m\u001b[1;33m(\u001b[0m\u001b[0mfilecount\u001b[0m\u001b[1;33m=\u001b[0m\u001b[0mfilecount\u001b[0m\u001b[1;33m,\u001b[0m\u001b[0mwave_file\u001b[0m \u001b[1;33m=\u001b[0m \u001b[1;34m\"wavFiles\\\\rec10%03d.wav\"\u001b[0m \u001b[1;33m%\u001b[0m\u001b[0mfilecount\u001b[0m\u001b[1;33m)\u001b[0m\u001b[1;33m\u001b[0m\u001b[1;33m\u001b[0m\u001b[0m\n\u001b[1;32m---> 42\u001b[1;33m         \u001b[0mDouble\u001b[0m\u001b[1;33m.\u001b[0m\u001b[0mparsedouble\u001b[0m\u001b[1;33m(\u001b[0m\u001b[0msprate\u001b[0m\u001b[1;33m)\u001b[0m\u001b[1;33m\u001b[0m\u001b[1;33m\u001b[0m\u001b[0m\n\u001b[0m\u001b[0;32m     43\u001b[0m         \u001b[0mprint\u001b[0m\u001b[1;33m(\u001b[0m\u001b[1;34m\"rate of speech\"\u001b[0m \u001b[1;33m,\u001b[0m \u001b[0msprate\u001b[0m\u001b[1;33m)\u001b[0m\u001b[1;33m\u001b[0m\u001b[1;33m\u001b[0m\u001b[0m\n\u001b[0;32m     44\u001b[0m         \u001b[0mtxtsave\u001b[0m\u001b[1;33m(\u001b[0m \u001b[0mfilecount\u001b[0m\u001b[1;33m,\u001b[0m \u001b[0msprate\u001b[0m\u001b[1;33m)\u001b[0m\u001b[1;33m\u001b[0m\u001b[1;33m\u001b[0m\u001b[0m\n",
      "\u001b[1;31mNameError\u001b[0m: name 'Double' is not defined"
     ]
    }
   ],
   "source": [
    "# Wait for first file to be written\n",
    "while not os.path.exists(\"Scripts\\\\mic10001.raw\"):\n",
    "    time.sleep(1)\n",
    "\n",
    "print(\"First file created!\")\n",
    "print(\"Entering loop...\\n\")\n",
    "filecount = 1\n",
    "rate = np.zeros(44100)\n",
    "ratelog = np.zeros((1000,1))\n",
    "while True:\n",
    "    try:\n",
    "        # Get file size\n",
    "        fileSize = os.path.getsize('Scripts\\\\mic10%03d.raw' %filecount)//4\n",
    "        FILE_DURATION = fileSize/SAMPLING_RATE #second\n",
    "        # Check if file is broken or corrupted \n",
    "        if fileSize < FILE_DURATION*SAMPLING_RATE:\n",
    "            print(\"File is smaller than what it should be\")\n",
    "            raise IOError(\"corrupted\")\n",
    "        \n",
    "        # Initialize numpy array\n",
    "        fileData = np.zeros(fileSize, dtype= np.float16)\n",
    "        \n",
    "        with open(\"Scripts\\\\mic10%03d.raw\" %filecount, \"rb\") as f:\n",
    "            print(\"Reading file mic10%03d.raw\" %filecount)\n",
    "            x=0\n",
    "            while x<fileSize:\n",
    "                try:\n",
    "                    # Unpack the bytes into float and store result in array\n",
    "                    fileData[x] = struct.unpack('f', f.read(4))[0]\n",
    "                    x = x+1\n",
    "                except:\n",
    "                    continue\n",
    "#         plt.plot(fileData)\n",
    "#         plt.show()\n",
    "            \n",
    "        # Save as .wav for further bookeeping?????????\n",
    "        #wav.write(\"wavFiles\\\\rec10%03d.wav\" %filecount, SAMPLING_RATE, fileData)\n",
    "        data, samplerate = sf.read('./Scripts/mic10%03d.raw'%filecount, channels =1, samplerate = SAMPLING_RATE, subtype = 'FLOAT')\n",
    "        sf.write('./wavFiles/rec10%03d.wav' %filecount, data, samplerate)\n",
    "        \n",
    "        if speechdetectmodule.detector(\"C:\\\\Users\\\\truon\\\\Desktop\\\\MayRecord31st\\\\MayRecord31st\\\\waveFiles\\\\rec10%03d.wav\" %filecount):\n",
    "            \n",
    "            sprate = speechrate.getrate(filecount=filecount,wave_file = \"wavFiles\\\\rec10%03d.wav\" %filecount)\n",
    "            Double.parsedouble(sprate)\n",
    "            print(\"rate of speech\" , sprate)\n",
    "            txtsave( filecount, sprate)\n",
    "        \n",
    "        ratelog[filecount-1] = sprate\n",
    "        #np.savetxt('./wavFiles/ROS.txt', ratelog, fmt=\"%s\",delimiter=',')\n",
    "        \n",
    "        filecount = filecount + 1\n",
    "        clear_output(wait=True)\n",
    "        \n",
    "        # Wait for the file to be recorded\n",
    "        time.sleep(FILE_DURATION+0.1)\n",
    "        \n",
    "    except IOError as e:\n",
    "        # Catch broken files and inexistent file errors and exit\n",
    "        print(\"IOError: \" + str(e)) # print error to see what caused it\n",
    "        print(\"Exiting...\")\n",
    "        #np.savetxt('./wavFiles/ROS.txt', ratelog, fmt=\"%s\")\n",
    "        #rint(ratelog) #note: disregard first index\n",
    "        #cleanUp()\n",
    "        break\n",
    "        \n",
    "    except KeyboardInterrupt:\n",
    "        # In case we have to manually exit the program\n",
    "        print(\"Exiting...\")\n",
    "        #cleanUp()\n",
    "        break\n",
    "\n",
    "# send result back to unity\n",
    "# try to shutdown unity from python (not needed)"
   ]
  },
  {
   "cell_type": "code",
   "execution_count": 5,
   "metadata": {},
   "outputs": [],
   "source": [
    "# #def cleanUp():\n",
    "#     my_dir = \"wavFiles\\\\\"\n",
    "#     for fname in os.listdir(my_dir):\n",
    "#         if fname.startswith(\"rec\"):\n",
    "#             os.remove(os.path.join(my_dir, fname))\n",
    "#     my_dir = \"Scripts\\\\\"\n",
    "#     for fname in os.listdir(my_dir):\n",
    "#         if fname.startswith(\"mic\"):\n",
    "#             os.remove(os.path.join(my_dir, fname))\n",
    "            \n",
    "# cleanUp()"
   ]
  },
  {
   "cell_type": "code",
   "execution_count": 10,
   "metadata": {},
   "outputs": [],
   "source": [
    "def txtsave(count, sprate):\n",
    "    f = open(\"C:\\\\Users\\\\truon\\\\Desktop\\\\MayRecord31st\\\\MayRecord31st\\\\wavFiles\\\\ROS.txt\",\"a+\")\n",
    "    f.write(\"%d, %.2f\\r\\n\" %(count,sprate))\n",
    "        \n",
    "    if __name__ ==\"txtsave\":\n",
    "        txtsave() \n",
    "        "
   ]
  },
  {
   "cell_type": "code",
   "execution_count": 19,
   "metadata": {},
   "outputs": [],
   "source": [
    "#clean up ROS.txt content\n",
    "#def clear(filename = \"\"):\n",
    "open(\"C:\\\\Users\\\\truon\\\\Desktop\\\\MayRecord31st\\\\MayRecord31st\\\\wavFiles\\\\ROS.txt\",\"w\").close()\n"
   ]
  },
  {
   "cell_type": "code",
   "execution_count": null,
   "metadata": {},
   "outputs": [],
   "source": []
  }
 ],
 "metadata": {
  "kernelspec": {
   "display_name": "Python 3",
   "language": "python",
   "name": "python3"
  },
  "language_info": {
   "codemirror_mode": {
    "name": "ipython",
    "version": 3
   },
   "file_extension": ".py",
   "mimetype": "text/x-python",
   "name": "python",
   "nbconvert_exporter": "python",
   "pygments_lexer": "ipython3",
   "version": "3.7.3"
  }
 },
 "nbformat": 4,
 "nbformat_minor": 2
}
