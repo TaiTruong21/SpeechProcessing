{
 "cells": [
  {
   "cell_type": "code",
   "execution_count": 1,
   "metadata": {},
   "outputs": [],
   "source": [
    "import numpy as np\n",
    "import matplotlib.pyplot as plt\n",
    "import struct\n",
    "import scipy.io.wavfile as wav\n",
    "import os\n",
    "import time\n",
    "from IPython.display import clear_output\n",
    "from Scripts import speechrate\n",
    "from playsound import playsound\n",
    "import soundfile as sf\n",
    "plt.ion()"
   ]
  },
  {
   "cell_type": "code",
   "execution_count": 5,
   "metadata": {},
   "outputs": [
    {
     "name": "stdout",
     "output_type": "stream",
     "text": [
      "IOError: [WinError 2] The system cannot find the file specified: 'MoonSplit\\\\Moon5SecSeg-38.wav'\n",
      "Exiting...\n"
     ]
    }
   ],
   "source": [
    "filecount = 1\n",
    "ratelog = np.zeros((1000,3))\n",
    "SAMPLING_RATE = 44100\n",
    "while True:\n",
    "    try:\n",
    "        fileSize = os.path.getsize(\"MoonSplit\\\\Moon5SecSeg-%1d.wav\" %filecount)//4\n",
    "        FILE_DURATION = fileSize/SAMPLING_RATE #second\n",
    "        sprate = speechrate.getrate(filecount=filecount,wave_file = \"MoonSplit\\\\Moon5SecSeg-%1d.wav\" %filecount)\n",
    "        print(sprate)\n",
    "        ratelog[filecount-1] = sprate\n",
    "        print(\"rate of speech\" , sprate)        \n",
    "        filecount = filecount + 1\n",
    "        clear_output(wait=True)\n",
    "        \n",
    "        # Wait for the file to be recorded\n",
    "        time.sleep(FILE_DURATION+0.1)\n",
    "        \n",
    "    except IOError as e:\n",
    "        # Catch broken files and inexistent file errors and exit\n",
    "        print(\"IOError: \" + str(e)) # print error to see what caused it\n",
    "        print(\"Exiting...\")\n",
    "        np.savetxt('./MoonSplit/ROS.txt', ratelog, fmt=\"%s\")\n",
    "        #rint(ratelog) #note: disregard first index\n",
    "        #cleanUp()\n",
    "        break"
   ]
  },
  {
   "cell_type": "code",
   "execution_count": null,
   "metadata": {},
   "outputs": [],
   "source": []
  }
 ],
 "metadata": {
  "kernelspec": {
   "display_name": "Python 3",
   "language": "python",
   "name": "python3"
  },
  "language_info": {
   "codemirror_mode": {
    "name": "ipython",
    "version": 3
   },
   "file_extension": ".py",
   "mimetype": "text/x-python",
   "name": "python",
   "nbconvert_exporter": "python",
   "pygments_lexer": "ipython3",
   "version": "3.7.3"
  }
 },
 "nbformat": 4,
 "nbformat_minor": 2
}
