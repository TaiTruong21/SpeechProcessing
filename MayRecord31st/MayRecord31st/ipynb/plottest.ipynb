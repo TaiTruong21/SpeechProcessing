{
 "cells": [
  {
   "cell_type": "code",
   "execution_count": 4,
   "metadata": {},
   "outputs": [],
   "source": [
    "import numpy as np\n",
    "import matplotlib.pyplot as plt\n",
    "import struct\n",
    "import scipy.io.wavfile as wav\n",
    "import os\n",
    "import time\n",
    "from IPython.display import clear_output\n",
    "from Scripts import speechrate\n",
    "plt.ion()"
   ]
  },
  {
   "cell_type": "code",
   "execution_count": 5,
   "metadata": {},
   "outputs": [
    {
     "name": "stdout",
     "output_type": "stream",
     "text": [
      "C:\\Users\\truon\\Desktop\\MayRecord31st\\MayRecord31st\n"
     ]
    }
   ],
   "source": [
    "print(os.getcwd())\n",
    "\n",
    "SAMPLING_RATE = 44100\n",
    "FILE_DURATION = 5 # Seconds"
   ]
  },
  {
   "cell_type": "code",
   "execution_count": 9,
   "metadata": {},
   "outputs": [
    {
     "name": "stdout",
     "output_type": "stream",
     "text": [
      "First file created!\n",
      "Entering loop...\n",
      "\n",
      "Reading file mic001.raw\n"
     ]
    },
    {
     "data": {
      "image/png": "[encoded data removed]",
      "text/plain": [
       "<Figure size 432x288 with 1 Axes>"
      ]
     },
     "metadata": {
      "needs_background": "light"
     },
     "output_type": "display_data"
    },
    {
     "name": "stdout",
     "output_type": "stream",
     "text": [
      "timepeak: []\n"
     ]
    },
    {
     "ename": "IndexError",
     "evalue": "index 1 is out of bounds for axis 0 with size 0",
     "output_type": "error",
     "traceback": [
      "\u001b[1;31m---------------------------------------------------------------------------\u001b[0m",
      "\u001b[1;31mIndexError\u001b[0m                                Traceback (most recent call last)",
      "\u001b[1;32m<ipython-input-9-dff60421007f>\u001b[0m in \u001b[0;36m<module>\u001b[1;34m\u001b[0m\n\u001b[0;32m     36\u001b[0m         \u001b[1;31m# Save as .wav for further bookeeping\u001b[0m\u001b[1;33m\u001b[0m\u001b[1;33m\u001b[0m\u001b[1;33m\u001b[0m\u001b[0m\n\u001b[0;32m     37\u001b[0m         \u001b[0mwav\u001b[0m\u001b[1;33m.\u001b[0m\u001b[0mwrite\u001b[0m\u001b[1;33m(\u001b[0m\u001b[1;34m\"wavFiles/rec%03d.wav\"\u001b[0m \u001b[1;33m%\u001b[0m\u001b[0mfilecount\u001b[0m\u001b[1;33m,\u001b[0m \u001b[0mSAMPLING_RATE\u001b[0m\u001b[1;33m,\u001b[0m \u001b[0mfileData\u001b[0m\u001b[1;33m)\u001b[0m\u001b[1;33m\u001b[0m\u001b[1;33m\u001b[0m\u001b[0m\n\u001b[1;32m---> 38\u001b[1;33m         \u001b[0msprate\u001b[0m \u001b[1;33m=\u001b[0m \u001b[0mspeechrate\u001b[0m\u001b[1;33m.\u001b[0m\u001b[0mgetrate\u001b[0m\u001b[1;33m(\u001b[0m\u001b[0mwave_file\u001b[0m \u001b[1;33m=\u001b[0m \u001b[1;34m\"wavFiles/rec%03d.wav\"\u001b[0m \u001b[1;33m%\u001b[0m\u001b[0mfilecount\u001b[0m\u001b[1;33m)\u001b[0m\u001b[1;33m\u001b[0m\u001b[1;33m\u001b[0m\u001b[0m\n\u001b[0m\u001b[0;32m     39\u001b[0m         \u001b[0mprint\u001b[0m\u001b[1;33m(\u001b[0m\u001b[1;34m\"Speech Rate: {}\"\u001b[0m\u001b[1;33m.\u001b[0m\u001b[0mformat\u001b[0m\u001b[1;33m(\u001b[0m\u001b[0msprate\u001b[0m\u001b[1;33m)\u001b[0m\u001b[1;33m)\u001b[0m\u001b[1;33m\u001b[0m\u001b[1;33m\u001b[0m\u001b[0m\n\u001b[0;32m     40\u001b[0m \u001b[1;33m\u001b[0m\u001b[0m\n",
      "\u001b[1;32m~\\Desktop\\MayRecord31st\\MayRecord31st\\Scripts\\speechrate.py\u001b[0m in \u001b[0;36mgetrate\u001b[1;34m(wave_file, silencedb, mindip, minpause, min_sounding_int)\u001b[0m\n\u001b[0;32m     58\u001b[0m     \u001b[1;31m# print(\"peakcount: {}\".format(peakcount))\u001b[0m\u001b[1;33m\u001b[0m\u001b[1;33m\u001b[0m\u001b[1;33m\u001b[0m\u001b[0m\n\u001b[0;32m     59\u001b[0m     \u001b[0mprint\u001b[0m\u001b[1;33m(\u001b[0m\u001b[1;34m\"timepeak: {}\"\u001b[0m\u001b[1;33m.\u001b[0m\u001b[0mformat\u001b[0m\u001b[1;33m(\u001b[0m\u001b[0mtimepeaks\u001b[0m\u001b[1;33m)\u001b[0m\u001b[1;33m)\u001b[0m\u001b[1;33m\u001b[0m\u001b[1;33m\u001b[0m\u001b[0m\n\u001b[1;32m---> 60\u001b[1;33m \u001b[1;33m\u001b[0m\u001b[0m\n\u001b[0m\u001b[0;32m     61\u001b[0m     \u001b[0mvalidpeakcount\u001b[0m \u001b[1;33m=\u001b[0m \u001b[1;36m0\u001b[0m\u001b[1;33m\u001b[0m\u001b[1;33m\u001b[0m\u001b[0m\n\u001b[0;32m     62\u001b[0m     \u001b[0mcurrenttime\u001b[0m \u001b[1;33m=\u001b[0m \u001b[0mtimepeaks\u001b[0m\u001b[1;33m[\u001b[0m\u001b[1;36m1\u001b[0m\u001b[1;33m]\u001b[0m\u001b[1;33m\u001b[0m\u001b[1;33m\u001b[0m\u001b[0m\n",
      "\u001b[1;31mIndexError\u001b[0m: index 1 is out of bounds for axis 0 with size 0"
     ]
    }
   ],
   "source": [
    "# Wait for first file to be written\n",
    "while not os.path.exists(\"Scripts/mic001.raw\"):\n",
    "    time.sleep(1)\n",
    "\n",
    "print(\"First file created!\")\n",
    "print(\"Entering loop...\\n\")\n",
    "filecount = 1\n",
    "\n",
    "while True:\n",
    "    try:\n",
    "        # Get file size\n",
    "        fileSize = os.path.getsize('Scripts/mic%03d.raw' %filecount)//4\n",
    "        \n",
    "        # Check if file is broken or corrupted \n",
    "        if fileSize < FILE_DURATION*SAMPLING_RATE:\n",
    "            print(\"File is smaller than what it should be\")\n",
    "            raise IOError(\"corrupted\")\n",
    "        \n",
    "        # Initialize numpy array\n",
    "        fileData = np.zeros(fileSize, dtype= np.float16)\n",
    "        \n",
    "        with open(\"Scripts/mic%03d.raw\" %filecount, \"rb\") as f:\n",
    "            print(\"Reading file mic%03d.raw\" %filecount)\n",
    "            x=0\n",
    "            while x<fileSize:\n",
    "                try:\n",
    "                    # Unpack the bytes into float and store result in array\n",
    "                    fileData[x] = struct.unpack('f', f.read(4))[0]\n",
    "                    x = x+1\n",
    "                except:\n",
    "                    continue\n",
    "            \n",
    "            plt.plot(fileData)\n",
    "            plt.show()\n",
    "            \n",
    "        # Save as .wav for further bookeeping\n",
    "        wav.write(\"wavFiles/rec%03d.wav\" %filecount, SAMPLING_RATE, fileData)\n",
    "        sprate = speechrate.getrate(wave_file = \"wavFiles/rec%03d.wav\" %filecount)\n",
    "        print(\"Speech Rate: {}\".format(sprate))\n",
    "        \n",
    "        filecount = filecount + 1\n",
    "        clear_output(wait=True)\n",
    "        \n",
    "        # Wait for the file to be recorded\n",
    "        time.sleep(FILE_DURATION+0.1)\n",
    "        \n",
    "    except IOError as e:\n",
    "        # Catch broken files and inexistent file errors and exit\n",
    "        print(\"IOError: \" + str(e)) # print error to see what caused it\n",
    "        print(\"Exiting...\")\n",
    "        cleanUp()\n",
    "        break\n",
    "        \n",
    "    except KeyboardInterrupt:\n",
    "        # In case we have to manually exit the program\n",
    "        print(\"Exiting...\")\n",
    "        cleanUp()\n",
    "        break\n",
    "\n",
    "# send result back to unity\n",
    "# try to shutdown unity from python"
   ]
  },
  {
   "cell_type": "code",
   "execution_count": null,
   "metadata": {},
   "outputs": [],
   "source": [
    "def cleanUp():\n",
    "    my_dir = \"wavFiles/\"\n",
    "    for fname in os.listdir(my_dir):\n",
    "        if fname.startswith(\"rec\"):\n",
    "            os.remove(os.path.join(my_dir, fname))\n",
    "    my_dir = \"Scripts/\"\n",
    "    for fname in os.listdir(my_dir):\n",
    "        if fname.startswith(\"mic\"):\n",
    "            os.remove(os.path.join(my_dir, fname))\n",
    "            \n",
    "cleanUp()"
   ]
  },
  {
   "cell_type": "code",
   "execution_count": null,
   "metadata": {},
   "outputs": [],
   "source": []
  }
 ],
 "metadata": {
  "kernelspec": {
   "display_name": "Python 3",
   "language": "python",
   "name": "python3"
  },
  "language_info": {
   "codemirror_mode": {
    "name": "ipython",
    "version": 3
   },
   "file_extension": ".py",
   "mimetype": "text/x-python",
   "name": "python",
   "nbconvert_exporter": "python",
   "pygments_lexer": "ipython3",
   "version": "3.7.3"
  }
 },
 "nbformat": 4,
 "nbformat_minor": 2
}
