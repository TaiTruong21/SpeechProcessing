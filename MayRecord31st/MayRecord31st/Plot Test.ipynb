{
 "cells": [
  {
   "cell_type": "code",
   "execution_count": 8,
   "metadata": {},
   "outputs": [],
   "source": [
    "import numpy as np\n",
    "import matplotlib.pyplot as plt\n",
    "import struct\n",
    "import scipy.io.wavfile as wav\n",
    "import os\n",
    "import time\n",
    "from IPython.display import clear_output\n",
    "from Scripts import speechrate\n",
    "from playsound import playsound\n",
    "import soundfile as sf\n",
    "plt.ion()"
   ]
  },
  {
   "cell_type": "code",
   "execution_count": 2,
   "metadata": {},
   "outputs": [
    {
     "name": "stdout",
     "output_type": "stream",
     "text": [
      "C:\\Users\\truon\\Desktop\\MayRecord31st\\MayRecord31st\n"
     ]
    }
   ],
   "source": [
    "print(os.getcwd())\n",
    "SAMPLING_RATE = 44100"
   ]
  },
  {
   "cell_type": "code",
   "execution_count": 7,
   "metadata": {},
   "outputs": [
    {
     "name": "stdout",
     "output_type": "stream",
     "text": [
      "IOError: [WinError 2] The system cannot find the file specified: 'Scripts\\\\mic021.raw'\n",
      "Exiting...\n"
     ]
    }
   ],
   "source": [
    "# Wait for first file to be written\n",
    "while not os.path.exists(\"Scripts\\\\mic001.raw\"):\n",
    "    time.sleep(1)\n",
    "\n",
    "print(\"First file created!\")\n",
    "print(\"Entering loop...\\n\")\n",
    "filecount = 1\n",
    "rate = np.zeros(44100)\n",
    "ratelog = np.zeros((1000,3))\n",
    "while True:\n",
    "    try:\n",
    "        # Get file size\n",
    "        fileSize = os.path.getsize('Scripts\\\\mic%03d.raw' %filecount)//4\n",
    "        FILE_DURATION = fileSize/SAMPLING_RATE #second\n",
    "        # Check if file is broken or corrupted \n",
    "        if fileSize < FILE_DURATION*SAMPLING_RATE:\n",
    "            print(\"File is smaller than what it should be\")\n",
    "            raise IOError(\"corrupted\")\n",
    "        \n",
    "        # Initialize numpy array\n",
    "        fileData = np.zeros(fileSize, dtype= np.float16)\n",
    "        \n",
    "        with open(\"Scripts\\\\mic%03d.raw\" %filecount, \"rb\") as f:\n",
    "            print(\"Reading file mic%03d.raw\" %filecount)\n",
    "            x=0\n",
    "            while x<fileSize:\n",
    "                try:\n",
    "                    # Unpack the bytes into float and store result in array\n",
    "                    fileData[x] = struct.unpack('f', f.read(4))[0]\n",
    "                    x = x+1\n",
    "                except:\n",
    "                    continue\n",
    "#         plt.plot(fileData)\n",
    "#         plt.show()\n",
    "            \n",
    "        # Save as .wav for further bookeeping?????????\n",
    "#         wav.write(\"wavFiles\\\\rec%03d.wav\" %filecount, SAMPLING_RATE, fileData)\n",
    "        data, samplerate = sf.read('./Scripts/mic%03d.raw'%filecount, channels =1, samplerate = SAMPLING_RATE, subtype = 'FLOAT')\n",
    "        sf.write('./wavFiles/rec%03d.wav' %filecount, data, samplerate)\n",
    "        \n",
    "        sprate = speechrate.getrate(filecount=filecount,wave_file = \"wavFiles\\\\rec%03d.wav\" %filecount)\n",
    "        print(sprate)\n",
    "        ratelog[filecount-1] = sprate\n",
    "        print(\"rate of speech\" , sprate)\n",
    "#         plt.plot(fileData, label = sprate)\n",
    "#         plt.title('file mic%03d.raw' %filecount)\n",
    "#         plt.legend(loc='upper left')\n",
    "#         plt.savefig(\"wavFiles\\\\rawdataPic\\\\pic%03d.jpeg\" %filecount)\n",
    "#         plt.show()\n",
    "#         print(\"Speech Rate: {}\".format(sprate))\n",
    "        \n",
    "        filecount = filecount + 1\n",
    "        clear_output(wait=True)\n",
    "        \n",
    "        # Wait for the file to be recorded\n",
    "        time.sleep(FILE_DURATION+0.1)\n",
    "        \n",
    "    except IOError as e:\n",
    "        # Catch broken files and inexistent file errors and exit\n",
    "        print(\"IOError: \" + str(e)) # print error to see what caused it\n",
    "        print(\"Exiting...\")\n",
    "        np.savetxt('./wavFiles/ROS.txt', ratelog, fmt=\"%s\")\n",
    "        #rint(ratelog) #note: disregard first index\n",
    "        #cleanUp()\n",
    "        break\n",
    "        \n",
    "    except KeyboardInterrupt:\n",
    "        # In case we have to manually exit the program\n",
    "        print(\"Exiting...\")\n",
    "        #cleanUp()\n",
    "        break\n",
    "\n",
    "# send result back to unity\n",
    "# try to shutdown unity from python (not needed)"
   ]
  },
  {
   "cell_type": "code",
   "execution_count": null,
   "metadata": {},
   "outputs": [],
   "source": [
    "# #def cleanUp():\n",
    "#     my_dir = \"wavFiles\\\\\"\n",
    "#     for fname in os.listdir(my_dir):\n",
    "#         if fname.startswith(\"rec\"):\n",
    "#             os.remove(os.path.join(my_dir, fname))\n",
    "#     my_dir = \"Scripts\\\\\"\n",
    "#     for fname in os.listdir(my_dir):\n",
    "#         if fname.startswith(\"mic\"):\n",
    "#             os.remove(os.path.join(my_dir, fname))\n",
    "            \n",
    "# cleanUp()"
   ]
  },
  {
   "cell_type": "code",
   "execution_count": null,
   "metadata": {},
   "outputs": [],
   "source": [
    "filecount = 1\n",
    "while True:\n",
    "    try:\n",
    "        sprate = speechrate.getrate(filecount=filecount,wave_file = \"wavFiles\\\\rec%03d.wav\" %filecount)\n",
    "        print(sprate)\n",
    "        ratelog[filecount-1] = sprate\n",
    "        print(\"rate of speech\" , sprate)        \n",
    "        filecount = filecount + 1\n",
    "        clear_output(wait=True)\n",
    "        "
   ]
  },
  {
   "cell_type": "code",
   "execution_count": null,
   "metadata": {},
   "outputs": [],
   "source": [
    "print(os.getcwd())"
   ]
  }
 ],
 "metadata": {
  "kernelspec": {
   "display_name": "Python 3",
   "language": "python",
   "name": "python3"
  },
  "language_info": {
   "codemirror_mode": {
    "name": "ipython",
    "version": 3
   },
   "file_extension": ".py",
   "mimetype": "text/x-python",
   "name": "python",
   "nbconvert_exporter": "python",
   "pygments_lexer": "ipython3",
   "version": "3.7.3"
  }
 },
 "nbformat": 4,
 "nbformat_minor": 2
}
